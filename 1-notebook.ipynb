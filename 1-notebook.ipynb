{
  "metadata": {
    "kernelspec": {
      "name": "python",
      "display_name": "Python (Pyodide)",
      "language": "python"
    },
    "language_info": {
      "codemirror_mode": {
        "name": "python",
        "version": 3
      },
      "file_extension": ".py",
      "mimetype": "text/x-python",
      "name": "python",
      "nbconvert_exporter": "python",
      "pygments_lexer": "ipython3",
      "version": "3.8"
    }
  },
  "nbformat_minor": 4,
  "nbformat": 4,
  "cells": [
    {
      "cell_type": "markdown",
      "source": "# Data science tools and ecosystem",
      "metadata": {}
    },
    {
      "cell_type": "markdown",
      "source": "In this notebook, Data science tools and ecosystem are summarized",
      "metadata": {}
    },
    {
      "cell_type": "markdown",
      "source": "Some of the popular languages that data scientists use are:\n1. Python\n2. Julia\n3. R",
      "metadata": {}
    },
    {
      "cell_type": "markdown",
      "source": "Some of the commonly used libraries used by data scientists include:\n1. Numpy\n2. Pandas\n3. Tensorflow",
      "metadata": {}
    },
    {
      "cell_type": "code",
      "source": "from IPython.display import Markdown, display\n\n# Define the table contents\ntable_contents = \"| Tool | Description |\\n| --- | --- |\\n| Python | Programming language |\\n| R | Statistical computing language |\\n| TensorFlow | Machine learning framework |\\n| PyTorch | Deep learning library |\\n| Scikit-learn | Machine learning library |\\n| Pandas | Data manipulation library |\\n| NumPy | Numerical computing library |\\n| Matplotlib | Data visualization library |\\n| Seaborn | Statistical data visualization |\\n| Jupyter Notebook | Interactive computing environment |\\n\"\n\n# Display the Markdown table\ndisplay(Markdown(table_contents))\n",
      "metadata": {
        "trusted": true
      },
      "outputs": [
        {
          "output_type": "display_data",
          "data": {
            "text/plain": "<IPython.core.display.Markdown object>",
            "text/markdown": "| Tool | Description |\n| --- | --- |\n| Python | Programming language |\n| R | Statistical computing language |\n| TensorFlow | Machine learning framework |\n| PyTorch | Deep learning library |\n| Scikit-learn | Machine learning library |\n| Pandas | Data manipulation library |\n| NumPy | Numerical computing library |\n| Matplotlib | Data visualization library |\n| Seaborn | Statistical data visualization |\n| Jupyter Notebook | Interactive computing environment |\n"
          },
          "metadata": {}
        }
      ],
      "execution_count": 3
    },
    {
      "cell_type": "code",
      "source": "from IPython.display import Markdown, display\n\nmd = \"### Below are a few examples of evaluating arithematic expressions in python\\n\"\n\ndisplay(Markdown(md))",
      "metadata": {
        "trusted": true
      },
      "outputs": [
        {
          "output_type": "display_data",
          "data": {
            "text/plain": "<IPython.core.display.Markdown object>",
            "text/markdown": "### Below are a few examples of evaluating arithematic expressions in python\n"
          },
          "metadata": {}
        }
      ],
      "execution_count": 4
    },
    {
      "cell_type": "code",
      "source": "(3 * 4)+5",
      "metadata": {
        "trusted": true
      },
      "outputs": [
        {
          "execution_count": 5,
          "output_type": "execute_result",
          "data": {
            "text/plain": "17"
          },
          "metadata": {}
        }
      ],
      "execution_count": 5
    },
    {
      "cell_type": "markdown",
      "source": "this a simple arithematic expression to multiply then add integers",
      "metadata": {}
    },
    {
      "cell_type": "code",
      "source": "minutes = 120\n\nhours = minutes/60\n\nprint(f\"{minutes} minutes is equal to {hours} hours\")",
      "metadata": {
        "trusted": true
      },
      "outputs": [
        {
          "name": "stdout",
          "text": "120 minutes is equal to 2.0 hours\n",
          "output_type": "stream"
        }
      ],
      "execution_count": 6
    },
    {
      "cell_type": "markdown",
      "source": "This is will convert 200 minutes to hours by dividing by 60",
      "metadata": {}
    },
    {
      "cell_type": "code",
      "source": "from IPython.display import Markdown, display\n\n# Introductory sentence\nintro_sentence = \"Here are some examples:\"\n\nex = [\n    \"C++\",\n    \"Python\",\n    \"Java\",\n    \"Julia\",\n    \"Javascript\"\n]\n\nmarkdown_content = intro_sentence + \"\\n\\n\" + \"\\n\".join([\"- \" + ex for ex in ex])\n\n# Display the Markdown cell\ndisplay(Markdown(markdown_content))\n",
      "metadata": {
        "trusted": true
      },
      "outputs": [
        {
          "output_type": "display_data",
          "data": {
            "text/plain": "<IPython.core.display.Markdown object>",
            "text/markdown": "Here are some examples:\n\n- C++\n- Python\n- Java\n- Julia\n- Javascript"
          },
          "metadata": {}
        }
      ],
      "execution_count": 8
    },
    {
      "cell_type": "markdown",
      "source": "# Author LIU XIAOQUAN",
      "metadata": {}
    },
    {
      "cell_type": "code",
      "source": "",
      "metadata": {
        "trusted": true
      },
      "outputs": [],
      "execution_count": null
    }
  ]
}